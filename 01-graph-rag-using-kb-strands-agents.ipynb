{
 "cells": [
  {
   "cell_type": "markdown",
   "id": "9e3f8924-01d4-4702-b548-aa33dda5d11d",
   "metadata": {},
   "source": [
    "# Strands Agents와 Amazon Bedrock Knowledge Bases를 활용한 Graph RAG\n",
    "이 모듈에서는 **Strands Agents SDK**와 Amazon Bedrock Knowledge Bases를 결합하여 GraphRAG(Retrieval-Augmented Generation) 기반의 생성형 AI 애플리케이션을 구축하는 방법을 배웁니다. 이를 통해 그래프 데이터와 결합된 더욱 정확하고 맥락적이며 설명 가능한 응답을 생성할 수 있습니다.\n",
    "\n",
    "다음 단계를 통해 Strands Agents와 Amazon Bedrock Knowledge Bases, GraphRAG를 사용하여 자율 AI 에이전트를 구축하는 과정을 안내합니다."
   ]
  },
  {
   "cell_type": "markdown",
   "id": "75464c27-0c7a-4fe8-b6f0-ddce7c96209b",
   "metadata": {},
   "source": [
    "## 개요\n",
    "**Strands Agents**는 AWS에서 출시한 오픈소스 SDK로, 모델 중심 접근 방식으로 자율 AI 에이전트를 구축하기 위해 설계되었습니다. Amazon Bedrock, AWS Lambda, AWS Step Functions 등 AWS 서비스와의 원활한 통합을 제공합니다.\n",
    "\n",
    "Amazon Bedrock Knowledge Bases는 Amazon Neptune Analytics와 함께 완전 관리형 GraphRAG 기능을 제공합니다. 이 기능은 그래프와 결합된 RAG(Retrieval Augmented Generation) 기술을 사용하여 생성형 AI 애플리케이션을 향상시키므로 최종 사용자가 더욱 정확하고 포괄적인 응답을 얻을 수 있습니다.\n",
    "\n",
    "GraphRAG는 Amazon Bedrock Knowledge Bases에 수집된 문서 전체에서 관련 엔티티 간의 관계와 구조적 요소(섹션 제목 등)를 자동으로 식별하고 활용합니다. 즉, 생성형 AI 애플리케이션이 여러 문서 청크에 걸쳐 데이터를 연결하고 추론해야 하는 경우 더욱 관련성 높은 응답을 제공할 수 있습니다.\n",
    "\n",
    "### Strands Agents의 주요 기능:\n",
    "\n",
    "- **모델 중심 설계**: 파운데이션 모델이 에이전트 인텔리전스의 핵심이라는 개념을 기반으로 구축되어 정교한 자율 추론 가능\n",
    "- **MCP 통합**: Model Context Protocol(MCP)에 대한 네이티브 지원으로 LLM에 표준화된 컨텍스트 제공\n",
    "- **AWS 서비스 통합**: Amazon Bedrock, AWS Lambda, AWS Step Functions 등과의 원활한 연결\n",
    "- **멀티모달 지원**: 텍스트, 음성, 이미지 처리를 포함한 포괄적인 에이전트 상호작용\n",
    "- **풍부한 도구 생태계**: AWS 서비스 상호작용을 위한 도구와 커스텀 도구 확장성\n",
    "\n",
    "### GraphRAG를 활용한 Amazon Bedrock Knowledge Bases의 이점:\n",
    "\n",
    "- 관련 엔티티 및 문서 섹션의 맥락 정보를 활용하여 **더욱 관련성 높은 응답** 제공\n",
    "- 데이터 소스의 핵심 콘텐츠를 통합하고 불필요한 정보를 필터링하여 **향상된 요약** 제공\n",
    "- 데이터셋의 서로 다른 엔티티 간 관계를 이해하고 출처를 제공하여 **더욱 설명 가능한 응답** 제공\n",
    "\n",
    "**참고**: GraphRAG는 Amazon Bedrock Knowledge Bases와 Amazon Neptune Analytics가 모두 사용 가능한 AWS 리전에서 제공됩니다.\n",
    "\n",
    "- 이 모듈에서는 Anthropic Claude 3 Haiku 모델을 파운데이션 모델로 사용합니다."
   ]
  },
  {
   "cell_type": "markdown",
   "id": "d09998e7-6062-4edb-9348-bbe54026a101",
   "metadata": {},
   "source": [
    "## 사전 요구사항\n",
    "질문에 답변하기 전에 문서를 처리하여 Knowledge Base에 저장해야 합니다. 이 노트북에서는 `리테일 회사의 광고 캠페인 성과 보고서 데이터`를 사용하여 Amazon Bedrock Knowledge Bases를 생성합니다.\n",
    "\n",
    "1. 문서(데이터 소스)를 Amazon S3 버킷에 업로드합니다."
   ]
  },
  {
   "cell_type": "markdown",
   "id": "79a68ef2-f670-451f-9399-343570489b95",
   "metadata": {},
   "source": [
    "## 설정"
   ]
  },
  {
   "cell_type": "code",
   "execution_count": null,
   "id": "c1608ffd-60f5-459b-ba2e-174209ff7537",
   "metadata": {},
   "outputs": [],
   "source": [
    "# %pip install --upgrade pip --quiet\n",
    "# %pip install -r requirements.txt --no-deps --quiet\n",
    "# %pip install -r requirements.txt --upgrade --quiet"
   ]
  },
  {
   "cell_type": "markdown",
   "id": "a3cb27dd-a2de-4e38-aa7b-c315953b9921",
   "metadata": {},
   "source": [
    "### boto3 클라이언트 및 Strands Agents 초기화\n",
    "노트북 전체에서 Strands Agents의 retrieve 도구를 활용하여 Knowledge Base 기능을 테스트합니다."
   ]
  },
  {
   "cell_type": "code",
   "execution_count": null,
   "id": "563d853e-2966-47bb-9183-aab31d64e8b7",
   "metadata": {},
   "outputs": [],
   "source": [
    "import json\n",
    "import boto3\n",
    "import pprint\n",
    "import sys\n",
    "from botocore.exceptions import ClientError\n",
    "from botocore.client import Config\n",
    "import time\n",
    "import os\n",
    "import logging\n",
    "\n",
    "# Strands Agents imports\n",
    "from strands import Agent\n",
    "from strands_tools import retrieve\n",
    "from strands.models import BedrockModel\n",
    "    \n",
    "from utils.knowledge_base import BedrockKnowledgeBase\n",
    "\n",
    "# Create boto3 session\n",
    "sts_client = boto3.client('sts')\n",
    "boto3_session = boto3.session.Session()\n",
    "region_name = boto3_session.region_name\n",
    "account_id = sts_client.get_caller_identity()['Account']\n",
    "\n",
    "# Create s3 client\n",
    "s3_client = boto3.client('s3')\n",
    "\n",
    "print(f\"Region: {region_name}\")\n",
    "print(f\"Account ID: {account_id}\")"
   ]
  },
  {
   "cell_type": "code",
   "execution_count": null,
   "id": "b2004717-61c2-44de-b56d-c146b71f11f3",
   "metadata": {},
   "outputs": [],
   "source": [
    "import time\n",
    "\n",
    "# Get the current timestamp\n",
    "current_time = time.time()\n",
    "\n",
    "# Format the timestamp as a string\n",
    "timestamp_str = time.strftime(\"%Y%m%d%H%M%S\", time.localtime(current_time))[-7:]\n",
    "# Create the suffix using the timestamp\n",
    "suffix = f\"{timestamp_str}\"\n",
    "\n",
    "knowledge_base_name = f\"bedrock-sample-knowledge-base-{suffix}\"\n",
    "knowledge_base_description = \"Graph RAG knowledge base with Strands Agents.\"\n",
    "\n",
    "bucket_name = f'{knowledge_base_name}-{account_id}'"
   ]
  },
  {
   "cell_type": "markdown",
   "id": "7ed17bf3-a80f-43c2-877c-366920791792",
   "metadata": {},
   "source": [
    "## Amazon Neptune을 벡터 스토어로 사용하는 KB 생성\n",
    "GraphRAG를 구축하려면 벡터 스토어로 Amazon Neptune Analytics를 선택해야 합니다.\n",
    "Knowledge Base는 문서 임베딩을 Amazon Neptune에 자동으로 생성하고 저장하며, 문서 말뭉치에서 파생된 엔티티와 그 관계의 그래프 표현도 함께 저장합니다.\n",
    "\n",
    "GraphRAG 기반 애플리케이션이 실행되면 Strands Agents를 통해 Knowledge Base를 쿼리하여 최종 사용자에게 더욱 포괄적이고 관련성 높으며 설명 가능한 응답을 제공할 수 있습니다."
   ]
  },
  {
   "cell_type": "code",
   "execution_count": null,
   "id": "96da3b94-6dac-40cb-a596-80843461c04f",
   "metadata": {},
   "outputs": [],
   "source": [
    "data_sources = [{\"type\": \"S3\", \"bucket_name\": bucket_name}]"
   ]
  },
  {
   "cell_type": "code",
   "execution_count": null,
   "id": "31aa139f-00fe-4955-9927-4996f7761937",
   "metadata": {},
   "outputs": [],
   "source": [
    "knowledge_base = BedrockKnowledgeBase(\n",
    "    kb_name=f'{knowledge_base_name}',\n",
    "    kb_description=knowledge_base_description,\n",
    "    data_sources=data_sources,\n",
    "    chunking_strategy = \"GRAPH\", \n",
    "    suffix = f'{suffix}-f',\n",
    "    vector_store=\"NEPTUNE_ANALYTICS\" # can be OPENSEARCH_SERVERLESS or NEPTUNE_ANALYTICS\n",
    ")"
   ]
  },
  {
   "cell_type": "markdown",
   "id": "8cb35e0f-befb-4016-a778-f3a43ab41e42",
   "metadata": {},
   "source": [
    "## Knowledge Base에 수집할 데이터 다운로드\n",
    "다음 데이터를 사용합니다:\n",
    "\n",
    "로컬 디렉토리에 저장된 합성 데이터를 첫 번째 데이터 소스로 사용\n",
    "### S3 버킷 데이터 소스에 데이터 업로드"
   ]
  },
  {
   "cell_type": "code",
   "execution_count": null,
   "id": "19d74971-1877-407e-b309-cc3e1a1a3246",
   "metadata": {},
   "outputs": [],
   "source": [
    "import os\n",
    "s3_client = boto3.client('s3')\n",
    "\n",
    "def upload_directory(path, bucket_name):\n",
    "        for root,dirs,files in os.walk(path):\n",
    "            for file in files:\n",
    "                file_to_upload = os.path.join(root,file)\n",
    "                print(f\"uploading file {file_to_upload} to {bucket_name}\")\n",
    "                s3_client.upload_file(file_to_upload,bucket_name,file)\n",
    "\n",
    "upload_directory(\"synthetic_dataset/\", bucket_name)"
   ]
  },
  {
   "cell_type": "markdown",
   "id": "c599ac39-0b0e-4892-848d-42ab63c895ad",
   "metadata": {},
   "source": [
    "## 수집(Ingestion) 작업 시작\n",
    "KB와 데이터 소스가 생성되면 각 데이터 소스에 대한 수집 작업을 시작할 수 있습니다. 수집 작업 중에 KB는 데이터 소스의 문서를 가져와서 텍스트를 추출하도록 전처리하고, 제공된 청킹 크기를 기반으로 청킹하고, 각 청크의 임베딩을 생성한 다음 벡터 데이터베이스(이 경우 Neptune Analytics)에 기록합니다.\n",
    "\n",
    "참고: 현재는 한 번에 하나의 수집 작업만 시작할 수 있습니다."
   ]
  },
  {
   "cell_type": "code",
   "execution_count": null,
   "id": "22422739-cf95-470f-a656-be25b8ee2959",
   "metadata": {},
   "outputs": [],
   "source": [
    "# sync knowledge base\n",
    "knowledge_base.start_ingestion_job()"
   ]
  },
  {
   "cell_type": "code",
   "execution_count": null,
   "id": "308014fd-f6e8-4fd7-ae30-6b86c4374416",
   "metadata": {},
   "outputs": [],
   "source": [
    "# keep the kb_id for invocation later in the invoke request\n",
    "kb_id = knowledge_base.get_knowledge_base_id()\n",
    "%store kb_id\n",
    "print(f\"Knowledge Base ID: {kb_id}\")"
   ]
  },
  {
   "cell_type": "markdown",
   "id": "strands-agent-setup",
   "metadata": {},
   "source": [
    "## Strands Agents 설정\n",
    "이제 Strands Agents를 사용하여 Knowledge Base와 상호작용합니다. Strands Agents는 `retrieve` 도구를 통해 Amazon Bedrock Knowledge Base에서 정보를 검색할 수 있습니다."
   ]
  },
  {
   "cell_type": "markdown",
   "id": "9sg4vinckd4",
   "metadata": {},
   "source": [
    "## 옵션: 기존 Knowledge Base 사용하기\n",
    "\n",
    "**이미 생성된 Knowledge Base가 있나요?** 그렇다면 위의 KB 생성 과정을 건너뛰고 여기서부터 시작할 수 있습니다!\n",
    "\n",
    "기존 KB ID만 있으면 바로 Strands Agent를 사용할 수 있습니다. 아래 셀의 주석을 해제하고 KB ID를 입력하세요."
   ]
  },
  {
   "cell_type": "code",
   "execution_count": null,
   "id": "kkpquabdj3c",
   "metadata": {},
   "outputs": [],
   "source": [
    "# 기존 Knowledge Base를 사용하려면 아래 주석을 해제하고 KB ID를 입력하세요\n",
    "# kb_id = \"YOUR_EXISTING_KB_ID_HERE\"  # 예: \"ABCDEFGHIJ\"\n",
    "# print(f\"기존 Knowledge Base ID 사용: {kb_id}\")\n",
    "\n",
    "# KB가 위에서 새로 생성되었다면 이 셀은 건너뛰세요"
   ]
  },
  {
   "cell_type": "markdown",
   "id": "3tm86qxcf7r",
   "metadata": {},
   "source": [
    "### 기존 KB를 사용하는 경우의 장점\n",
    "\n",
    "기존 Knowledge Base가 이미 있다면:\n",
    "- ✅ **즉시 시작**: KB 생성 및 데이터 수집 시간(수십 분) 절약\n",
    "- ✅ **기존 데이터 활용**: 이미 수집된 데이터를 바로 쿼리 가능\n",
    "- ✅ **비용 절감**: 새로운 리소스 생성 없이 기존 인프라 활용\n",
    "- ✅ **프로덕션 데이터**: 실제 프로덕션 환경의 KB로 테스트 가능\n",
    "\n",
    "**참고**: 기존 KB ID는 AWS 콘솔의 Amazon Bedrock > Knowledge bases 섹션에서 확인할 수 있습니다."
   ]
  },
  {
   "cell_type": "code",
   "execution_count": null,
   "id": "strands-env-setup",
   "metadata": {},
   "outputs": [],
   "source": [
    "# Set environment variables for Strands Agents\n",
    "os.environ['KNOWLEDGE_BASE_ID'] = kb_id\n",
    "os.environ['AWS_REGION'] = region_name\n",
    "os.environ['AWS_DEFAULT_REGION'] = region_name\n",
    "\n",
    "print(f\"Strands Agent configured with Knowledge Base ID: {kb_id}\")"
   ]
  },
  {
   "cell_type": "markdown",
   "id": "40d40848-f11e-4853-bfdc-c8f14a1e5994",
   "metadata": {},
   "source": [
    "## Strands Agents로 Knowledge Graph 테스트\n",
    "이제 Strands Agents를 사용하여 Amazon Bedrock Knowledge Bases로 생성된 `Neptune Analytics` 그래프를 쿼리할 수 있습니다.\n",
    "\n",
    "### Strands Agent로 Knowledge Base 질의\n",
    "Strands Agent는 `retrieve` 도구를 사용하여 Knowledge Base에서 정보를 검색하고, 파운데이션 모델을 사용하여 자연스러운 응답을 생성합니다.\n",
    "\n",
    "`query = 2023년 4분기 온라인 광고 캠페인의 전체 성과를 요약해줘.`\n",
    "\n",
    "이 쿼리에 대한 정답은 다음과 유사해야 합니다:\n",
    "\n",
    "```\n",
    "2023년 4분기 온라인 광고 캠페인 성과 요약:\n",
    "- 총 광고 지출: 15억 원\n",
    "- 총 노출수: 5,000만 회\n",
    "- 총 클릭수: 250만 회\n",
    "- 평균 CTR(클릭률): 5.0%\n",
    "- 총 전환수: 12만 5천 건\n",
    "- 전환율: 5.0%\n",
    "- ROAS(광고 투자 대비 수익): 350%\n",
    "```\n",
    "\n",
    "**참고**: 응답 생성에 선택한 모델에 따라 실제 응답은 다를 수 있지만 의미상으로는 유사합니다."
   ]
  },
  {
   "cell_type": "code",
   "execution_count": null,
   "id": "strands-agent-init",
   "metadata": {},
   "outputs": [],
   "source": [
    "# Strands용 베드락 모델 생성\n",
    "model = BedrockModel(\n",
    "    model_id=\"us.anthropic.claude-3-7-sonnet-20250219-v1:0\",\n",
    "    temperature=0.1,\n",
    "    streaming=False\n",
    ")\n",
    "# retrieve tool과 함께 Strands Agent 생성\n",
    "agent = Agent(\n",
    "    model=model,\n",
    "    tools=[retrieve],\n",
    "    system_prompt=\"\"\"당신은 광고 캠페인 성과 분석 전문가입니다. \n",
    "    Knowledge Base에서 정보를 검색하여 사용자의 질문에 정확하고 포괄적으로 답변하세요.\n",
    "    검색된 정보를 기반으로 명확하고 구조화된 답변을 제공하고, 가능한 경우 숫자와 통계를 포함하세요.\n",
    "    답변은 한국어로 제공하세요.\"\"\"\n",
    ")\n",
    "\n",
    "print(\"Strands Agent가 성공적으로 초기화되었습니다.\")\n",
    "print(f\"사용 모델: {model_id}\")\n",
    "print(f\"사용 도구: retrieve (Knowledge Base ID: {kb_id})\")"
   ]
  },
  {
   "cell_type": "code",
   "execution_count": null,
   "id": "c5878231-6993-4590-af39-f0102872f390",
   "metadata": {},
   "outputs": [],
   "source": [
    "query = \"2023년 4분기 온라인 광고 캠페인의 전체 성과를 요약해줘.\""
   ]
  },
  {
   "cell_type": "code",
   "execution_count": null,
   "id": "strands-query-1",
   "metadata": {},
   "outputs": [],
   "source": [
    "# Query using Strands Agent\n",
    "print(f\"질문: {query}\\n\")\n",
    "print(\"=\"*80)\n",
    "\n",
    "response = agent(query)\n",
    "\n",
    "print(\"\\n답변:\")\n",
    "print(\"=\"*80)\n",
    "print(response)"
   ]
  },
  {
   "cell_type": "markdown",
   "id": "064ef04f-1d21-488a-b58b-8977f32e51af",
   "metadata": {},
   "source": [
    "보시다시피 Strands Agent를 사용하면 자연스러운 대화형 응답을 얻을 수 있습니다. Agent는 내부적으로 `retrieve` 도구를 사용하여 Knowledge Base를 쿼리하고, 검색된 정보를 바탕으로 응답을 생성합니다.\n",
    "\n",
    "### Strands Agent로 추가 질의하기\n",
    "이제 더 구체적인 질문을 해보겠습니다."
   ]
  },
  {
   "cell_type": "code",
   "execution_count": null,
   "id": "strands-query-2",
   "metadata": {},
   "outputs": [],
   "source": [
    "query2 = \"모바일 앱 광고 캠페인에서 가장 높은 전환율을 기록한 광고 소재는 무엇인가요?\"\n",
    "\n",
    "print(f\"질문: {query2}\\n\")\n",
    "print(\"=\"*80)\n",
    "\n",
    "response2 = agent(query2)\n",
    "\n",
    "print(\"\\n답변:\")\n",
    "print(\"=\"*80)\n",
    "print(response2)"
   ]
  },
  {
   "cell_type": "markdown",
   "id": "multi-turn-conversation",
   "metadata": {},
   "source": [
    "### Strands Agent의 멀티턴 대화\n",
    "Strands Agent는 이전 대화 맥락을 유지할 수 있습니다. 이전 질문과 관련된 후속 질문을 해보겠습니다."
   ]
  },
  {
   "cell_type": "code",
   "execution_count": null,
   "id": "strands-query-3",
   "metadata": {},
   "outputs": [],
   "source": [
    "query3 = \"그렇다면 다른 광고 채널들과 비교했을 때 모바일 앱 광고의 성과는 어떤가요?\"\n",
    "\n",
    "print(f\"질문: {query3}\\n\")\n",
    "print(\"=\"*80)\n",
    "\n",
    "response3 = agent(query3)\n",
    "\n",
    "print(\"\\n답변:\")\n",
    "print(\"=\"*80)\n",
    "print(response3)"
   ]
  },
  {
   "cell_type": "markdown",
   "id": "advanced-queries",
   "metadata": {},
   "source": [
    "### 복잡한 분석 질의\n",
    "GraphRAG의 장점을 활용하여 여러 엔티티 간의 관계를 분석하는 복잡한 질문을 해보겠습니다."
   ]
  },
  {
   "cell_type": "code",
   "execution_count": null,
   "id": "strands-query-4",
   "metadata": {},
   "outputs": [],
   "source": [
    "query4 = \"광고 지출 대비 가장 높은 ROAS를 기록한 캠페인은 무엇이며, 그 이유는 무엇인가요?\"\n",
    "\n",
    "print(f\"질문: {query4}\\n\")\n",
    "print(\"=\"*80)\n",
    "\n",
    "response4 = agent(query4)\n",
    "\n",
    "print(\"\\n답변:\")\n",
    "print(\"=\"*80)\n",
    "print(response4)"
   ]
  },
  {
   "cell_type": "markdown",
   "id": "recommendation-query",
   "metadata": {},
   "source": [
    "### 추천 및 인사이트 질의\n",
    "마지막으로 Agent가 데이터를 분석하여 비즈니스 인사이트와 추천을 제공하도록 해보겠습니다."
   ]
  },
  {
   "cell_type": "code",
   "execution_count": null,
   "id": "strands-query-5",
   "metadata": {},
   "outputs": [],
   "source": [
    "query5 = \"2024년 1분기 광고 예산을 어떻게 배분하면 좋을지 2023년 4분기 데이터를 기반으로 추천해주세요.\"\n",
    "\n",
    "print(f\"질문: {query5}\\n\")\n",
    "print(\"=\"*80)\n",
    "\n",
    "response5 = agent(query5)\n",
    "\n",
    "print(\"\\n답변:\")\n",
    "print(\"=\"*80)\n",
    "print(response5)"
   ]
  },
  {
   "cell_type": "markdown",
   "id": "strands-advantages",
   "metadata": {},
   "source": [
    "## Strands Agents의 장점\n",
    "\n",
    "이 노트북에서 Strands Agents를 사용하여 GraphRAG 기반 Knowledge Base와 상호작용하는 방법을 살펴보았습니다. Strands Agents는 다음과 같은 장점을 제공합니다:\n",
    "\n",
    "1. **간편한 통합**: 몇 줄의 코드로 Amazon Bedrock Knowledge Base와 통합 가능\n",
    "2. **자율적 추론**: Agent가 자동으로 적절한 도구(retrieve)를 선택하고 사용\n",
    "3. **자연스러운 대화**: 멀티턴 대화를 지원하여 이전 맥락을 유지\n",
    "4. **확장성**: 필요에 따라 추가 도구와 기능을 쉽게 통합 가능\n",
    "5. **AWS 네이티브**: AWS 서비스와의 원활한 통합으로 엔터프라이즈급 보안 및 확장성 제공"
   ]
  },
  {
   "cell_type": "markdown",
   "id": "8978508d-4d96-42eb-9ea2-95c6153d5d39",
   "metadata": {},
   "source": [
    "## 리소스 정리\n",
    "모든 리소스를 삭제하려면 아래 섹션의 주석을 제거하고 실행하세요."
   ]
  },
  {
   "cell_type": "code",
   "execution_count": null,
   "id": "c6dd9960-be10-45e4-b46d-a54e7a79c487",
   "metadata": {},
   "outputs": [],
   "source": [
    "# 역할 및 정책 삭제\n",
    "# print(\"===============================Knowledge Base 및 관련 리소스 삭제 중==============================\\n\")\n",
    "# knowledge_base.delete_kb(delete_s3_bucket=True, delete_iam_roles_and_policies=True)"
   ]
  },
  {
   "cell_type": "markdown",
   "id": "94385593",
   "metadata": {},
   "source": [
    "<div class=\"alert alert-block alert-warning\">\n",
    "<b>참고:</b> 요금 발생을 방지하려면 KB, Neptune Analytics 그래프 및 관련 IAM 역할과 정책을 삭제하는 것을 잊지 마세요.\n",
    "</div>"
   ]
  },
  {
   "cell_type": "markdown",
   "id": "additional-resources",
   "metadata": {},
   "source": [
    "## 추가 리소스\n",
    "\n",
    "- [Strands Agents 공식 문서](https://strandsagents.com/latest/)\n",
    "- [Strands Agents GitHub](https://github.com/strands-agents/)\n",
    "- [AWS 블로그: Introducing Strands Agents](https://aws.amazon.com/blogs/opensource/introducing-strands-agents-an-open-source-ai-agents-sdk/)\n",
    "- [Amazon Bedrock Knowledge Bases 문서](https://docs.aws.amazon.com/bedrock/latest/userguide/knowledge-base.html)\n",
    "- [GraphRAG with Amazon Bedrock](https://aws.amazon.com/blogs/machine-learning/build-graphrag-applications-using-amazon-bedrock-knowledge-bases/)"
   ]
  }
 ],
 "metadata": {
  "kernelspec": {
   "display_name": "Python 3 (ipykernel)",
   "language": "python",
   "name": "python3"
  },
  "language_info": {
   "codemirror_mode": {
    "name": "ipython",
    "version": 3
   },
   "file_extension": ".py",
   "mimetype": "text/x-python",
   "name": "python",
   "nbconvert_exporter": "python",
   "pygments_lexer": "ipython3",
   "version": "3.12.9"
  }
 },
 "nbformat": 4,
 "nbformat_minor": 5
}
